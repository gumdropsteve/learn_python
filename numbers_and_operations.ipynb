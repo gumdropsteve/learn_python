{
  "nbformat": 4,
  "nbformat_minor": 0,
  "metadata": {
    "colab": {
      "name": "numbers_and_operations",
      "provenance": [],
      "collapsed_sections": [],
      "include_colab_link": true
    },
    "kernelspec": {
      "name": "python3",
      "display_name": "Python 3"
    }
  },
  "cells": [
    {
      "cell_type": "markdown",
      "metadata": {
        "id": "view-in-github",
        "colab_type": "text"
      },
      "source": [
        "<a href=\"https://colab.research.google.com/github/gumdropsteve/learn_python/blob/master/numbers_and_operations.ipynb\" target=\"_parent\"><img src=\"https://colab.research.google.com/assets/colab-badge.svg\" alt=\"Open In Colab\"/></a>"
      ]
    },
    {
      "cell_type": "markdown",
      "metadata": {
        "id": "NNeRa1p8yOHF",
        "colab_type": "text"
      },
      "source": [
        "# Introduction to Python "
      ]
    },
    {
      "cell_type": "code",
      "metadata": {
        "id": "j-8Yagp0Bjp4",
        "colab_type": "code",
        "cellView": "form",
        "outputId": "0e1850c6-ed15-4f86-c87b-89592842d6d6",
        "colab": {
          "base_uri": "https://localhost:8080/",
          "height": 422
        }
      },
      "source": [
        "#@title Numbers\n",
        "from IPython.display import YouTubeVideo\n",
        "YouTubeVideo('PpuImrt4K3E', width=600, height=400)"
      ],
      "execution_count": 0,
      "outputs": [
        {
          "output_type": "execute_result",
          "data": {
            "text/html": [
              "\n",
              "        <iframe\n",
              "            width=\"600\"\n",
              "            height=\"400\"\n",
              "            src=\"https://www.youtube.com/embed/PpuImrt4K3E\"\n",
              "            frameborder=\"0\"\n",
              "            allowfullscreen\n",
              "        ></iframe>\n",
              "        "
            ],
            "text/plain": [
              "<IPython.lib.display.YouTubeVideo at 0x7f947acaa3c8>"
            ],
            "image/jpeg": "[encoded data removed]"
          },
          "metadata": {
            "tags": []
          },
          "execution_count": 8
        }
      ]
    },
    {
      "cell_type": "code",
      "metadata": {
        "id": "yQWbq9xSyNB1",
        "colab_type": "code",
        "outputId": "d2763f1f-8f0b-42c5-df24-a89543094264",
        "colab": {
          "base_uri": "https://localhost:8080/",
          "height": 69
        }
      },
      "source": [
        "256, 250.6, complex(25, 6)"
      ],
      "execution_count": 0,
      "outputs": [
        {
          "output_type": "stream",
          "text": [
            "256\n",
            "250.6\n",
            "(25+6j)\n"
          ],
          "name": "stdout"
        }
      ]
    },
    {
      "cell_type": "markdown",
      "metadata": {
        "id": "y8P9wCpX0sfC",
        "colab_type": "text"
      },
      "source": [
        "### Number Types"
      ]
    },
    {
      "cell_type": "markdown",
      "metadata": {
        "id": "isixNRZ808lt",
        "colab_type": "text"
      },
      "source": [
        "- int\n",
        "- float\n",
        "- complex"
      ]
    },
    {
      "cell_type": "code",
      "metadata": {
        "id": "7hU-HbuvRl7l",
        "colab_type": "code",
        "outputId": "2db584ea-e847-4cb3-fc60-dc127e172331",
        "colab": {
          "base_uri": "https://localhost:8080/",
          "height": 34
        }
      },
      "source": [
        "256"
      ],
      "execution_count": 0,
      "outputs": [
        {
          "output_type": "execute_result",
          "data": {
            "text/plain": [
              "256"
            ]
          },
          "metadata": {
            "tags": []
          },
          "execution_count": 7
        }
      ]
    },
    {
      "cell_type": "code",
      "metadata": {
        "id": "vKs5umcuAnKQ",
        "colab_type": "code",
        "outputId": "205e6984-2937-4fb6-d90e-72d0b0580822",
        "colab": {
          "base_uri": "https://localhost:8080/",
          "height": 34
        }
      },
      "source": [
        "type(256)"
      ],
      "execution_count": 0,
      "outputs": [
        {
          "output_type": "execute_result",
          "data": {
            "text/plain": [
              "int"
            ]
          },
          "metadata": {
            "tags": []
          },
          "execution_count": 8
        }
      ]
    },
    {
      "cell_type": "code",
      "metadata": {
        "id": "V3gmT-FeRpr5",
        "colab_type": "code",
        "outputId": "1b89e9b3-64ee-4e69-ff98-19d1d57396a4",
        "colab": {
          "base_uri": "https://localhost:8080/",
          "height": 34
        }
      },
      "source": [
        "10.0"
      ],
      "execution_count": 0,
      "outputs": [
        {
          "output_type": "execute_result",
          "data": {
            "text/plain": [
              "10.0"
            ]
          },
          "metadata": {
            "tags": []
          },
          "execution_count": 9
        }
      ]
    },
    {
      "cell_type": "code",
      "metadata": {
        "id": "i_HaxraiRKTN",
        "colab_type": "code",
        "outputId": "3671f315-1ec9-4f3c-8047-79ec6652b3eb",
        "colab": {
          "base_uri": "https://localhost:8080/",
          "height": 34
        }
      },
      "source": [
        "type(10.0)"
      ],
      "execution_count": 0,
      "outputs": [
        {
          "output_type": "execute_result",
          "data": {
            "text/plain": [
              "float"
            ]
          },
          "metadata": {
            "tags": []
          },
          "execution_count": 10
        }
      ]
    },
    {
      "cell_type": "code",
      "metadata": {
        "id": "BRfSiZ0HRufz",
        "colab_type": "code",
        "outputId": "6fd554f8-007e-485c-f299-448a4fd6a0e3",
        "colab": {
          "base_uri": "https://localhost:8080/",
          "height": 34
        }
      },
      "source": [
        "complex(35, 14)"
      ],
      "execution_count": 0,
      "outputs": [
        {
          "output_type": "execute_result",
          "data": {
            "text/plain": [
              "(35+14j)"
            ]
          },
          "metadata": {
            "tags": []
          },
          "execution_count": 7
        }
      ]
    },
    {
      "cell_type": "code",
      "metadata": {
        "id": "EfIHzOiqRKX0",
        "colab_type": "code",
        "outputId": "801bcb5e-afb8-4e97-838e-cc0a9a99112e",
        "colab": {
          "base_uri": "https://localhost:8080/",
          "height": 34
        }
      },
      "source": [
        "type(complex(35, 14))"
      ],
      "execution_count": 0,
      "outputs": [
        {
          "output_type": "execute_result",
          "data": {
            "text/plain": [
              "complex"
            ]
          },
          "metadata": {
            "tags": []
          },
          "execution_count": 6
        }
      ]
    },
    {
      "cell_type": "markdown",
      "metadata": {
        "id": "rl93A0yM0w43",
        "colab_type": "text"
      },
      "source": [
        "### Numeric Operations (Math)"
      ]
    },
    {
      "cell_type": "markdown",
      "metadata": {
        "id": "i5aOKt2t03M-",
        "colab_type": "text"
      },
      "source": [
        "#### basics"
      ]
    },
    {
      "cell_type": "markdown",
      "metadata": {
        "id": "ncYdzm735PNy",
        "colab_type": "text"
      },
      "source": [
        "- add\n",
        "- subtract\n",
        "- divide\n",
        "- multiply"
      ]
    },
    {
      "cell_type": "code",
      "metadata": {
        "id": "CBRSI0Zw0wOr",
        "colab_type": "code",
        "outputId": "70c77cfa-b533-4073-f7a8-3d48895e67b7",
        "colab": {
          "base_uri": "https://localhost:8080/",
          "height": 34
        }
      },
      "source": [
        "1 + 1"
      ],
      "execution_count": 0,
      "outputs": [
        {
          "output_type": "execute_result",
          "data": {
            "text/plain": [
              "2"
            ]
          },
          "metadata": {
            "tags": []
          },
          "execution_count": 13
        }
      ]
    },
    {
      "cell_type": "code",
      "metadata": {
        "id": "ndGYGBvdB04k",
        "colab_type": "code",
        "outputId": "927c33b5-898a-47d7-cde4-b4ee6327cdf3",
        "colab": {
          "base_uri": "https://localhost:8080/",
          "height": 34
        }
      },
      "source": [
        "2 - 3.1"
      ],
      "execution_count": 0,
      "outputs": [
        {
          "output_type": "execute_result",
          "data": {
            "text/plain": [
              "-1.1"
            ]
          },
          "metadata": {
            "tags": []
          },
          "execution_count": 14
        }
      ]
    },
    {
      "cell_type": "code",
      "metadata": {
        "id": "kT3-yMhkB1Jq",
        "colab_type": "code",
        "outputId": "a2c62bc5-7c25-49ba-b2b4-53cc32cf17df",
        "colab": {
          "base_uri": "https://localhost:8080/",
          "height": 34
        }
      },
      "source": [
        "3 / 3"
      ],
      "execution_count": 0,
      "outputs": [
        {
          "output_type": "execute_result",
          "data": {
            "text/plain": [
              "1.0"
            ]
          },
          "metadata": {
            "tags": []
          },
          "execution_count": 15
        }
      ]
    },
    {
      "cell_type": "code",
      "metadata": {
        "id": "pSIpSbn0B1YP",
        "colab_type": "code",
        "outputId": "b6fb5325-c6ee-411b-8415-429c899460ee",
        "colab": {
          "base_uri": "https://localhost:8080/",
          "height": 34
        }
      },
      "source": [
        "3 * 3"
      ],
      "execution_count": 0,
      "outputs": [
        {
          "output_type": "execute_result",
          "data": {
            "text/plain": [
              "9"
            ]
          },
          "metadata": {
            "tags": []
          },
          "execution_count": 16
        }
      ]
    },
    {
      "cell_type": "markdown",
      "metadata": {
        "id": "VHxV6O2I48Rx",
        "colab_type": "text"
      },
      "source": [
        "#### funky"
      ]
    },
    {
      "cell_type": "markdown",
      "metadata": {
        "id": "RT-nIhK15S85",
        "colab_type": "text"
      },
      "source": [
        "- exponential\n",
        "- modular division\n",
        "- floor division"
      ]
    },
    {
      "cell_type": "code",
      "metadata": {
        "id": "CC1P3oYgD-Xj",
        "colab_type": "code",
        "outputId": "bcd0841b-75b8-45eb-f960-837f88d02b40",
        "colab": {
          "base_uri": "https://localhost:8080/",
          "height": 34
        }
      },
      "source": [
        "4 ** 2"
      ],
      "execution_count": 0,
      "outputs": [
        {
          "output_type": "execute_result",
          "data": {
            "text/plain": [
              "16"
            ]
          },
          "metadata": {
            "tags": []
          },
          "execution_count": 17
        }
      ]
    },
    {
      "cell_type": "code",
      "metadata": {
        "id": "QiKhlPt55Cq-",
        "colab_type": "code",
        "outputId": "5c94c7a9-37b4-4f05-de42-c9f97f12dc59",
        "colab": {
          "base_uri": "https://localhost:8080/",
          "height": 34
        }
      },
      "source": [
        "51 % 7"
      ],
      "execution_count": 0,
      "outputs": [
        {
          "output_type": "execute_result",
          "data": {
            "text/plain": [
              "2"
            ]
          },
          "metadata": {
            "tags": []
          },
          "execution_count": 18
        }
      ]
    },
    {
      "cell_type": "code",
      "metadata": {
        "id": "fp1hNQUZDOLE",
        "colab_type": "code",
        "outputId": "ee237fb7-791d-448d-a1ce-24e4b1bb5408",
        "colab": {
          "base_uri": "https://localhost:8080/",
          "height": 34
        }
      },
      "source": [
        "49 // 7"
      ],
      "execution_count": 0,
      "outputs": [
        {
          "output_type": "execute_result",
          "data": {
            "text/plain": [
              "7"
            ]
          },
          "metadata": {
            "tags": []
          },
          "execution_count": 19
        }
      ]
    }
  ]
}